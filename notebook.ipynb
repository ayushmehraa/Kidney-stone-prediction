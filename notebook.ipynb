{
 "cells": [
  {
   "cell_type": "code",
   "execution_count": 1,
   "metadata": {},
   "outputs": [],
   "source": [
    "# Ml modules \n",
    "import sklearn\n",
    "\n",
    "# common modules imports\n",
    "import numpy as np\n",
    "import pandas as pd\n",
    "# for visualizations\n",
    "import matplotlib as mpl\n",
    "import matplotlib.pyplot as plt\n",
    "import seaborn as sns\n",
    "mpl.rc('axes', labelsize=14)\n",
    "mpl.rc('xtick', labelsize=12)\n",
    "mpl.rc('ytick', labelsize=12)\n",
    "\n",
    "# DATASET PATH\n",
    "TRAIN_PATH = r'D:\\jypyter notebooks\\kaggle\\Kidney Stone Prediction\\train.csv'\n",
    "TEST_PATH = r'D:\\jypyter notebooks\\kaggle\\Kidney Stone Prediction\\test.csv'\n",
    "SAMPLE_SUB = r'D:\\jypyter notebooks\\kaggle\\Kidney Stone Prediction\\sample_submission.csv'"
   ]
  },
  {
   "cell_type": "code",
   "execution_count": null,
   "metadata": {},
   "outputs": [],
   "source": []
  }
 ],
 "metadata": {
  "kernelspec": {
   "display_name": "Python 3",
   "language": "python",
   "name": "python3"
  },
  "language_info": {
   "codemirror_mode": {
    "name": "ipython",
    "version": 3
   },
   "file_extension": ".py",
   "mimetype": "text/x-python",
   "name": "python",
   "nbconvert_exporter": "python",
   "pygments_lexer": "ipython3",
   "version": "3.11.0"
  },
  "orig_nbformat": 4
 },
 "nbformat": 4,
 "nbformat_minor": 2
}
